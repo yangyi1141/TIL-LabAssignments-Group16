{
 "cells": [
  {
   "cell_type": "markdown",
   "metadata": {},
   "source": [
    "# Project Group - 16\n",
    "\n",
    "Members: \n",
    "Mengning Mao(5683130), Yiming Wang(5842387), Yao Lu(5665043), Yuzhou Lu(5855241), Yi Yang(5717981) \n",
    "\n",
    "Date: 08-11-2022"
   ]
  },
  {
   "cell_type": "markdown",
   "metadata": {},
   "source": [
    "# Research Objective\n",
    "\n",
    "How has COVID-19 impacted transportation in the United States?"
   ]
  },
  {
   "cell_type": "markdown",
   "metadata": {},
   "source": [
    "# Contribution Statement\n"
   ]
  },
  {
   "cell_type": "markdown",
   "metadata": {},
   "source": [
    "**Author 1**: Mengning Mao - Background research, all analysis of Q5, Q7\n",
    "\n",
    "**Author 2**: Yiming Wang - Background research, all analysis of Q3\n",
    "\n",
    "**Author 3**: Yao Lu - Background research, all analysis of Q1, Q8\n",
    "\n",
    "**Author 4**: Yuzhou Lu - Background research, all analysis of Q4, Q6\n",
    "\n",
    "**Author 5**: Yi Yang - Background research, all analysis of Q2"
   ]
  },
  {
   "cell_type": "markdown",
   "metadata": {},
   "source": [
    "# Import libraries"
   ]
  },
  {
   "cell_type": "code",
   "execution_count": 1,
   "metadata": {},
   "outputs": [
    {
     "data": {
      "text/html": [
       "        <script type=\"text/javascript\">\n",
       "        window.PlotlyConfig = {MathJaxConfig: 'local'};\n",
       "        if (window.MathJax && window.MathJax.Hub && window.MathJax.Hub.Config) {window.MathJax.Hub.Config({SVG: {font: \"STIX-Web\"}});}\n",
       "        if (typeof require !== 'undefined') {\n",
       "        require.undef(\"plotly\");\n",
       "        requirejs.config({\n",
       "            paths: {\n",
       "                'plotly': ['https://cdn.plot.ly/plotly-2.12.1.min']\n",
       "            }\n",
       "        });\n",
       "        require(['plotly'], function(Plotly) {\n",
       "            window._Plotly = Plotly;\n",
       "        });\n",
       "        }\n",
       "        </script>\n",
       "        "
      ]
     },
     "metadata": {},
     "output_type": "display_data"
    }
   ],
   "source": [
    "import pandas as pd\n",
    "import math\n",
    "import scipy\n",
    "import numpy as np\n",
    "import datetime \n",
    "import geopandas as gpd\n",
    "import json\n",
    "import itertools\n",
    "from urllib.request import urlopen\n",
    "\n",
    "%matplotlib inline\n",
    "import matplotlib.pyplot as plt\n",
    "import seaborn as sns\n",
    "import plotly.express as px\n",
    "import plotly.graph_objects as go\n",
    "import plotly.io as pio\n",
    "from plotly.offline import init_notebook_mode\n",
    "import matplotlib.animation as animation\n",
    "\n",
    "init_notebook_mode(connected=True)\n",
    "pio.renderers.default = \"plotly_mimetype+notebook\"\n"
   ]
  },
  {
   "cell_type": "markdown",
   "metadata": {},
   "source": [
    "## Data Import"
   ]
  },
  {
   "cell_type": "code",
   "execution_count": 2,
   "metadata": {},
   "outputs": [],
   "source": [
    "with urlopen('https://raw.githubusercontent.com/plotly/datasets/master/geojson-counties-fips.json') as response:\n",
    "    counties = json.load(response)"
   ]
  },
  {
   "cell_type": "code",
   "execution_count": 3,
   "metadata": {},
   "outputs": [
    {
     "ename": "FileNotFoundError",
     "evalue": "[Errno 2] No such file or directory: 'Trips_by_Distance.csv'",
     "output_type": "error",
     "traceback": [
      "\u001b[0;31m---------------------------------------------------------------------------\u001b[0m",
      "\u001b[0;31mFileNotFoundError\u001b[0m                         Traceback (most recent call last)",
      "\u001b[0;32m/var/folders/qj/t8rkw_jd2bzbj059cmh69wx80000gn/T/ipykernel_20522/3081335475.py\u001b[0m in \u001b[0;36m<module>\u001b[0;34m\u001b[0m\n\u001b[1;32m      4\u001b[0m \u001b[0;34m\u001b[0m\u001b[0m\n\u001b[1;32m      5\u001b[0m \u001b[0;31m# Daily Average Number of People Staying at Home\u001b[0m\u001b[0;34m\u001b[0m\u001b[0;34m\u001b[0m\u001b[0m\n\u001b[0;32m----> 6\u001b[0;31m \u001b[0mdf\u001b[0m \u001b[0;34m=\u001b[0m \u001b[0mpd\u001b[0m\u001b[0;34m.\u001b[0m\u001b[0mread_csv\u001b[0m\u001b[0;34m(\u001b[0m\u001b[0;34m'Trips_by_Distance.csv'\u001b[0m\u001b[0;34m)\u001b[0m\u001b[0;34m\u001b[0m\u001b[0;34m\u001b[0m\u001b[0m\n\u001b[0m\u001b[1;32m      7\u001b[0m \u001b[0;34m\u001b[0m\u001b[0m\n\u001b[1;32m      8\u001b[0m \u001b[0;31m# Read data of passenger vehicles to US from Canada\u001b[0m\u001b[0;34m\u001b[0m\u001b[0;34m\u001b[0m\u001b[0m\n",
      "\u001b[0;32m~/opt/anaconda3/lib/python3.9/site-packages/pandas/util/_decorators.py\u001b[0m in \u001b[0;36mwrapper\u001b[0;34m(*args, **kwargs)\u001b[0m\n\u001b[1;32m    309\u001b[0m                     \u001b[0mstacklevel\u001b[0m\u001b[0;34m=\u001b[0m\u001b[0mstacklevel\u001b[0m\u001b[0;34m,\u001b[0m\u001b[0;34m\u001b[0m\u001b[0;34m\u001b[0m\u001b[0m\n\u001b[1;32m    310\u001b[0m                 )\n\u001b[0;32m--> 311\u001b[0;31m             \u001b[0;32mreturn\u001b[0m \u001b[0mfunc\u001b[0m\u001b[0;34m(\u001b[0m\u001b[0;34m*\u001b[0m\u001b[0margs\u001b[0m\u001b[0;34m,\u001b[0m \u001b[0;34m**\u001b[0m\u001b[0mkwargs\u001b[0m\u001b[0;34m)\u001b[0m\u001b[0;34m\u001b[0m\u001b[0;34m\u001b[0m\u001b[0m\n\u001b[0m\u001b[1;32m    312\u001b[0m \u001b[0;34m\u001b[0m\u001b[0m\n\u001b[1;32m    313\u001b[0m         \u001b[0;32mreturn\u001b[0m \u001b[0mwrapper\u001b[0m\u001b[0;34m\u001b[0m\u001b[0;34m\u001b[0m\u001b[0m\n",
      "\u001b[0;32m~/opt/anaconda3/lib/python3.9/site-packages/pandas/io/parsers/readers.py\u001b[0m in \u001b[0;36mread_csv\u001b[0;34m(filepath_or_buffer, sep, delimiter, header, names, index_col, usecols, squeeze, prefix, mangle_dupe_cols, dtype, engine, converters, true_values, false_values, skipinitialspace, skiprows, skipfooter, nrows, na_values, keep_default_na, na_filter, verbose, skip_blank_lines, parse_dates, infer_datetime_format, keep_date_col, date_parser, dayfirst, cache_dates, iterator, chunksize, compression, thousands, decimal, lineterminator, quotechar, quoting, doublequote, escapechar, comment, encoding, encoding_errors, dialect, error_bad_lines, warn_bad_lines, on_bad_lines, delim_whitespace, low_memory, memory_map, float_precision, storage_options)\u001b[0m\n\u001b[1;32m    676\u001b[0m     \u001b[0mkwds\u001b[0m\u001b[0;34m.\u001b[0m\u001b[0mupdate\u001b[0m\u001b[0;34m(\u001b[0m\u001b[0mkwds_defaults\u001b[0m\u001b[0;34m)\u001b[0m\u001b[0;34m\u001b[0m\u001b[0;34m\u001b[0m\u001b[0m\n\u001b[1;32m    677\u001b[0m \u001b[0;34m\u001b[0m\u001b[0m\n\u001b[0;32m--> 678\u001b[0;31m     \u001b[0;32mreturn\u001b[0m \u001b[0m_read\u001b[0m\u001b[0;34m(\u001b[0m\u001b[0mfilepath_or_buffer\u001b[0m\u001b[0;34m,\u001b[0m \u001b[0mkwds\u001b[0m\u001b[0;34m)\u001b[0m\u001b[0;34m\u001b[0m\u001b[0;34m\u001b[0m\u001b[0m\n\u001b[0m\u001b[1;32m    679\u001b[0m \u001b[0;34m\u001b[0m\u001b[0m\n\u001b[1;32m    680\u001b[0m \u001b[0;34m\u001b[0m\u001b[0m\n",
      "\u001b[0;32m~/opt/anaconda3/lib/python3.9/site-packages/pandas/io/parsers/readers.py\u001b[0m in \u001b[0;36m_read\u001b[0;34m(filepath_or_buffer, kwds)\u001b[0m\n\u001b[1;32m    573\u001b[0m \u001b[0;34m\u001b[0m\u001b[0m\n\u001b[1;32m    574\u001b[0m     \u001b[0;31m# Create the parser.\u001b[0m\u001b[0;34m\u001b[0m\u001b[0;34m\u001b[0m\u001b[0m\n\u001b[0;32m--> 575\u001b[0;31m     \u001b[0mparser\u001b[0m \u001b[0;34m=\u001b[0m \u001b[0mTextFileReader\u001b[0m\u001b[0;34m(\u001b[0m\u001b[0mfilepath_or_buffer\u001b[0m\u001b[0;34m,\u001b[0m \u001b[0;34m**\u001b[0m\u001b[0mkwds\u001b[0m\u001b[0;34m)\u001b[0m\u001b[0;34m\u001b[0m\u001b[0;34m\u001b[0m\u001b[0m\n\u001b[0m\u001b[1;32m    576\u001b[0m \u001b[0;34m\u001b[0m\u001b[0m\n\u001b[1;32m    577\u001b[0m     \u001b[0;32mif\u001b[0m \u001b[0mchunksize\u001b[0m \u001b[0;32mor\u001b[0m \u001b[0miterator\u001b[0m\u001b[0;34m:\u001b[0m\u001b[0;34m\u001b[0m\u001b[0;34m\u001b[0m\u001b[0m\n",
      "\u001b[0;32m~/opt/anaconda3/lib/python3.9/site-packages/pandas/io/parsers/readers.py\u001b[0m in \u001b[0;36m__init__\u001b[0;34m(self, f, engine, **kwds)\u001b[0m\n\u001b[1;32m    930\u001b[0m \u001b[0;34m\u001b[0m\u001b[0m\n\u001b[1;32m    931\u001b[0m         \u001b[0mself\u001b[0m\u001b[0;34m.\u001b[0m\u001b[0mhandles\u001b[0m\u001b[0;34m:\u001b[0m \u001b[0mIOHandles\u001b[0m \u001b[0;34m|\u001b[0m \u001b[0;32mNone\u001b[0m \u001b[0;34m=\u001b[0m \u001b[0;32mNone\u001b[0m\u001b[0;34m\u001b[0m\u001b[0;34m\u001b[0m\u001b[0m\n\u001b[0;32m--> 932\u001b[0;31m         \u001b[0mself\u001b[0m\u001b[0;34m.\u001b[0m\u001b[0m_engine\u001b[0m \u001b[0;34m=\u001b[0m \u001b[0mself\u001b[0m\u001b[0;34m.\u001b[0m\u001b[0m_make_engine\u001b[0m\u001b[0;34m(\u001b[0m\u001b[0mf\u001b[0m\u001b[0;34m,\u001b[0m \u001b[0mself\u001b[0m\u001b[0;34m.\u001b[0m\u001b[0mengine\u001b[0m\u001b[0;34m)\u001b[0m\u001b[0;34m\u001b[0m\u001b[0;34m\u001b[0m\u001b[0m\n\u001b[0m\u001b[1;32m    933\u001b[0m \u001b[0;34m\u001b[0m\u001b[0m\n\u001b[1;32m    934\u001b[0m     \u001b[0;32mdef\u001b[0m \u001b[0mclose\u001b[0m\u001b[0;34m(\u001b[0m\u001b[0mself\u001b[0m\u001b[0;34m)\u001b[0m\u001b[0;34m:\u001b[0m\u001b[0;34m\u001b[0m\u001b[0;34m\u001b[0m\u001b[0m\n",
      "\u001b[0;32m~/opt/anaconda3/lib/python3.9/site-packages/pandas/io/parsers/readers.py\u001b[0m in \u001b[0;36m_make_engine\u001b[0;34m(self, f, engine)\u001b[0m\n\u001b[1;32m   1214\u001b[0m             \u001b[0;31m# \"Union[str, PathLike[str], ReadCsvBuffer[bytes], ReadCsvBuffer[str]]\"\u001b[0m\u001b[0;34m\u001b[0m\u001b[0;34m\u001b[0m\u001b[0m\n\u001b[1;32m   1215\u001b[0m             \u001b[0;31m# , \"str\", \"bool\", \"Any\", \"Any\", \"Any\", \"Any\", \"Any\"\u001b[0m\u001b[0;34m\u001b[0m\u001b[0;34m\u001b[0m\u001b[0m\n\u001b[0;32m-> 1216\u001b[0;31m             self.handles = get_handle(  # type: ignore[call-overload]\n\u001b[0m\u001b[1;32m   1217\u001b[0m                 \u001b[0mf\u001b[0m\u001b[0;34m,\u001b[0m\u001b[0;34m\u001b[0m\u001b[0;34m\u001b[0m\u001b[0m\n\u001b[1;32m   1218\u001b[0m                 \u001b[0mmode\u001b[0m\u001b[0;34m,\u001b[0m\u001b[0;34m\u001b[0m\u001b[0;34m\u001b[0m\u001b[0m\n",
      "\u001b[0;32m~/opt/anaconda3/lib/python3.9/site-packages/pandas/io/common.py\u001b[0m in \u001b[0;36mget_handle\u001b[0;34m(path_or_buf, mode, encoding, compression, memory_map, is_text, errors, storage_options)\u001b[0m\n\u001b[1;32m    784\u001b[0m         \u001b[0;32mif\u001b[0m \u001b[0mioargs\u001b[0m\u001b[0;34m.\u001b[0m\u001b[0mencoding\u001b[0m \u001b[0;32mand\u001b[0m \u001b[0;34m\"b\"\u001b[0m \u001b[0;32mnot\u001b[0m \u001b[0;32min\u001b[0m \u001b[0mioargs\u001b[0m\u001b[0;34m.\u001b[0m\u001b[0mmode\u001b[0m\u001b[0;34m:\u001b[0m\u001b[0;34m\u001b[0m\u001b[0;34m\u001b[0m\u001b[0m\n\u001b[1;32m    785\u001b[0m             \u001b[0;31m# Encoding\u001b[0m\u001b[0;34m\u001b[0m\u001b[0;34m\u001b[0m\u001b[0m\n\u001b[0;32m--> 786\u001b[0;31m             handle = open(\n\u001b[0m\u001b[1;32m    787\u001b[0m                 \u001b[0mhandle\u001b[0m\u001b[0;34m,\u001b[0m\u001b[0;34m\u001b[0m\u001b[0;34m\u001b[0m\u001b[0m\n\u001b[1;32m    788\u001b[0m                 \u001b[0mioargs\u001b[0m\u001b[0;34m.\u001b[0m\u001b[0mmode\u001b[0m\u001b[0;34m,\u001b[0m\u001b[0;34m\u001b[0m\u001b[0;34m\u001b[0m\u001b[0m\n",
      "\u001b[0;31mFileNotFoundError\u001b[0m: [Errno 2] No such file or directory: 'Trips_by_Distance.csv'"
     ]
    }
   ],
   "source": [
    "# Read worldwide COVID data \n",
    "# https://ourworldindata.org/coronavirus/country/netherlands\n",
    "covid_world = pd.read_csv('https://raw.githubusercontent.com/yangyi1141/TIL-LabAssignments-Group16/9bd1ff225fc7d0f9993e3c6481a75c34711641f1/owid-covid-data.csv')\n",
    "\n",
    "# Daily Average Number of People Staying at Home\n",
    "df = pd.read_csv('Trips_by_Distance.csv')\n",
    "\n",
    "# Read data of passenger vehicles to US from Canada\n",
    "# (https://www.bts.gov/covid-19/week-in-transportation)\n",
    "df_ca = pd.read_csv('https://raw.githubusercontent.com/yangyi1141/TIL-LabAssignments-Group16/main/Passenger_Vehicles_to_US_from_Canada_data.csv')\n",
    "\n",
    "# Read data of passenger vehicles to US from Mexico\n",
    "# (https://www.bts.gov/covid-19/week-in-transportation)\n",
    "df_me = pd.read_csv('https://raw.githubusercontent.com/yangyi1141/TIL-LabAssignments-Group16/main/Passenger_Vehicles_to_US_from_Mexico_data.csv')\n",
    "\n",
    "# Get Percent Change in Passenger Travel from 2019 by Mode\n",
    "df_passenger = pd.read_csv(\"https://raw.githubusercontent.com/yangyi1141/TIL-LabAssignments-Group16/main/Passenger_data.csv\")\n",
    "\n",
    "# Read data of the number of confirmed cases of COVID-19 in the USA\n",
    "# (https://ourworldindata.org/explorers/coronavirus-data-explorer)\n",
    "df_covid = pd.read_csv('https://raw.githubusercontent.com/yangyi1141/TIL-LabAssignments-Group16/main/owid-covid-data-2.csv')\n",
    "\n",
    "# Read data of transit ridership of different transit modes\n",
    "# (https://data.bts.gov/Research-and-Statistics/Monthly-Transportation-Statistics/crem-w557/data)\n",
    "df_pt = pd.read_csv('https://raw.githubusercontent.com/yangyi1141/TIL-LabAssignments-Group16/main/Monthly_Transportation_Statistics.csv')\n",
    "\n",
    "# Get Transportation Services Index and Seasonally-Adjusted Transportation Data\n",
    "# (https://data.bts.gov/Research-and-Statistics/Transportation-Services-Index-and-Seasonally-Adjus/bw6n-ddqk/data)\n",
    "df_service = pd.read_csv(\"https://raw.githubusercontent.com/yangyi1141/TIL-LabAssignments-Group16/main/Transportation_Services_Index_and_Seasonally-Adjusted_Transportation_Data(2).csv\")\n",
    "\n",
    "# Get Total flight depatures by week:2019,2020,2021,2022\n",
    "df_depart = pd.read_csv(\"https://raw.githubusercontent.com/yangyi1141/TIL-LabAssignments-Group16/main/Total_Flight_Departures_by_Week_Total_Flights_data.csv\")\n"
   ]
  },
  {
   "cell_type": "markdown",
   "metadata": {},
   "source": [
    "## Question 1: How has the number of new cases/deaths of COVID-19 changed?"
   ]
  },
  {
   "cell_type": "markdown",
   "metadata": {},
   "source": [
    "Firstly, we want to look at the situation of the COVID-19 pandamic in the United States from the start to most recent dates. \n",
    "\n",
    "Within a complete dataset of different factors of the COVID-19 situation, the possible data that we can extract from it could be the nunber of new cases, new deaths etc, which can be related to and match with the transportation data (that we will produce later) based on common dates."
   ]
  },
  {
   "cell_type": "code",
   "execution_count": null,
   "metadata": {},
   "outputs": [],
   "source": [
    "# Extract the United States' COVID data \n",
    "covid_usa = covid_world[covid_world.location == 'United States']\n",
    "\n",
    "# Reset index and drop unnecessary columns\n",
    "covid_usa = covid_usa.reset_index()\n",
    "covid_usa = covid_usa.drop(columns = ['index', 'iso_code','continent'])\n",
    "\n",
    "# Convert the dates to datetime format\n",
    "covid_usa_date = pd.to_datetime(covid_usa['date'], format='%Y-%m-%d')\n",
    "covid_usa['date'] = covid_usa_date\n",
    "\n",
    "# Fill NaN values with zero\n",
    "covid_usa = covid_usa.fillna(0)\n",
    "# covid_usa.head()"
   ]
  },
  {
   "cell_type": "code",
   "execution_count": null,
   "metadata": {},
   "outputs": [],
   "source": [
    "# Process the data so that the dates match with the dates in Part 4: Freight Transportation data\n",
    "# Find the monthly mean covid cases \n",
    "covid_usa['month'] = covid_usa['date'].dt.month\n",
    "covid_usa['year'] = covid_usa['date'].dt.year\n",
    "covid_usa['day'] = 1\n",
    "covid_usa['monthYear'] = pd.to_datetime(covid_usa[['month', 'year', 'day']])\n",
    "mean_cases = covid_usa.groupby(['monthYear'])['new_cases_smoothed'].mean().to_frame(name = 'Cases').reset_index()\n",
    "mean_cases.columns = ['DATE', 'Monthly mean new cases']\n",
    "\n",
    "# Find the monthly mean covid deaths \n",
    "mean_deaths = covid_usa.groupby(['monthYear'])['new_deaths_smoothed'].mean().to_frame(name = 'Deaths').reset_index()\n",
    "mean_deaths.columns = ['DATE', 'Monthly mean new deaths']\n",
    "\n",
    "# Merge the monthly mean cases and deaths\n",
    "cases_deaths = pd.merge(mean_cases, mean_deaths, on=\"DATE\")"
   ]
  },
  {
   "cell_type": "markdown",
   "metadata": {},
   "source": [
    "#### New COVID-19 cases and deaths in the United States on a daily basis\n",
    "\n",
    "The outbreak of COVID-19 pandemic started in January 2020, which was roughly two years and half to our latest data time (July 2022). The number of new cases and deaths both have fluctuated significantly during this time.\n",
    "\n",
    "The overall trend of people diagnosed with the coronavirus during 2021 is an almost constant increase, with a few ups and downs in between. The highest number of new cases in 2021 was around 200,000 persons per day. Although the daily number of new cases does not fluctuate too much and seems to be decreasing recently (July 2022), the sudden increase in January 2022 was rather drastic, equalling almost 3 to 4 times of the relative peak values in other months.\n",
    "\n",
    "On the other hand, the number of new deaths kept altering throughout the whole observation period. Important coincidences with the case observation to notice are that similar to new cases, the peak and valley data points of deaths occurred in January 2022 and July 2021 as well. Note that the scale of the two diagrams vary. While the number of new cases a day can be up to almost 800,000, the maximum daily deaths is less than 3,500 persons."
   ]
  },
  {
   "cell_type": "code",
   "execution_count": null,
   "metadata": {},
   "outputs": [],
   "source": [
    "fig = px.line(covid_usa, x='date', y='new_cases_smoothed')\n",
    "\n",
    "# Label the diagram\n",
    "fig.update_xaxes(title_text='Date', showgrid = False)\n",
    "fig.update_yaxes(title_text='Cases (persons)')\n",
    "fig.update_layout(title_text = 'Daily New COVID-19 Cases in the United States (2020-2022)')\n",
    "fig.update_traces(line_color='blue', line_width=3)\n",
    "\n",
    "# Store as a json file\n",
    "fig.write_json('q1_1.json')\n",
    "\n",
    "# Show figure\n",
    "fig.show()"
   ]
  },
  {
   "cell_type": "code",
   "execution_count": null,
   "metadata": {},
   "outputs": [],
   "source": [
    "fig = px.line(covid_usa,x='date', y='new_deaths_smoothed')\n",
    "\n",
    "# Label the diagram\n",
    "fig.update_xaxes(title_text = 'Date', showgrid=False)\n",
    "fig.update_yaxes(title_text = 'Deaths (persons)')\n",
    "fig.update_layout(title_text = 'Daily New COVID-19 Deaths in the United States (2020-2022)')\n",
    "fig.update_traces(line_color='red', line_width=3)\n",
    "\n",
    "# Store as a json file\n",
    "fig.write_json('q1_2.json')\n",
    "\n",
    "# Show figure\n",
    "fig.show()"
   ]
  },
  {
   "cell_type": "markdown",
   "metadata": {},
   "source": [
    "## Question 2: What are the changes in the number of people staying at home before and during COVID-19?"
   ]
  },
  {
   "cell_type": "code",
   "execution_count": null,
   "metadata": {},
   "outputs": [],
   "source": [
    "# Data processing\n",
    "# Transfer to pandas time \n",
    "df.loc[:, 'Date'] = pd.to_datetime(df.loc[:, 'Date'])\n",
    "df['Year'] = df['Date'].dt.year \n",
    "\n",
    "# Calculate percentage of people staying at home\n",
    "df['Percentage Staying'] = 100 * df['Population Staying at Home'] / (df['Population Staying at Home'] + df['Population Not Staying at Home'])\n",
    "\n",
    "# Get national data in 2019, 2020, 2021\n",
    "df_n = df.groupby('Level').get_group('National')\n",
    "n19 = df_n.groupby('Year').get_group(2019)\n",
    "n20 = df_n.groupby('Year').get_group(2020)\n",
    "n21 = df_n.groupby('Year').get_group(2021)\n",
    "\n",
    "# Get weekly mean value\n",
    "perc19 = n19.groupby('Week')['Percentage Staying'].mean()\n",
    "perc20 = n20.groupby('Week')['Percentage Staying'].mean()\n",
    "perc21 = n21.groupby('Week')['Percentage Staying'].mean()\n",
    "\n",
    "# Create a new dataframe for weekly mean value\n",
    "perc = pd.DataFrame(data={\n",
    "    '2019':perc19,\n",
    "    '2020':perc20,\n",
    "    '2021':perc21}\n",
    ") "
   ]
  },
  {
   "cell_type": "code",
   "execution_count": null,
   "metadata": {},
   "outputs": [],
   "source": [
    "# Get county data\n",
    "df_c = df.groupby('Level').get_group('County')\n",
    "# Select the data of April 2020\n",
    "c20 = df_c.groupby('Year').get_group(2020)\n",
    "c21 = df_c.groupby('Year').get_group(2021)\n",
    "apr20 = c20.groupby('Month').get_group(4)\n",
    "nov21 = c21.groupby('Month').get_group(11)\n",
    "mean1 = apr20.groupby('County FIPS')['Percentage Staying'].mean()\n",
    "dict1 = {'County FIPS': mean1.index,'Percentage Staying': mean1.values}\n",
    "map1 = pd.DataFrame(dict1)\n",
    "\n",
    "# Select the data of November 2021\n",
    "mean2 = nov21.groupby('County FIPS')['Percentage Staying'].mean()\n",
    "dict2 = {'County FIPS':mean2.index,'Percentage Staying':mean2.values}\n",
    "map2 = pd.DataFrame(dict2)\n"
   ]
  },
  {
   "cell_type": "code",
   "execution_count": null,
   "metadata": {},
   "outputs": [],
   "source": [
    "# Line chart\n",
    "fig = px.line(perc,markers = True)\n",
    "fig.update_xaxes(title_text=\"Week during a year\")\n",
    "fig.update_yaxes(title_text=\"Percentage of People Staying at Home\")\n",
    "fig.update_layout(title_text=\"Weekly Average Pencentage of People Staying at Home: 2019–2021\")\n",
    "\n",
    "# Store as a json file\n",
    "fig.write_json('q2_1.json')\n",
    "fig.show()"
   ]
  },
  {
   "cell_type": "code",
   "execution_count": null,
   "metadata": {},
   "outputs": [],
   "source": [
    "# Heat map for Percentage Staying at Home April 2020\n",
    "fig = go.Figure(data=go.Choropleth(\n",
    "    locations = map1['County FIPS'],\n",
    "    geojson=counties,\n",
    "    z = map1['Percentage Staying'],\n",
    "    zmin=0,\n",
    "    zmax=80,\n",
    "    colorscale = 'Viridis',\n",
    "    autocolorscale=False,\n",
    "    marker_line_color='darkgray',\n",
    "    marker_line_width=0.5,\n",
    "    colorbar_title = 'Percentage'\n",
    "))\n",
    "\n",
    "fig.update_layout(\n",
    "    title_text='Percentage Staying at Home April 2020',\n",
    "    geo_scope='usa', # limite map scope to USA\n",
    "    geo=dict(\n",
    "        showframe=False,\n",
    "        showcoastlines=False\n",
    "    )\n",
    ")\n",
    "\n",
    "# Store as a json file\n",
    "fig.write_json('q2_2.json')\n",
    "\n",
    "fig.show()"
   ]
  },
  {
   "cell_type": "code",
   "execution_count": null,
   "metadata": {},
   "outputs": [],
   "source": [
    "# Heat map for Percentage Staying at Home November 2021\n",
    "fig = go.Figure(data=go.Choropleth(\n",
    "    locations = map2['County FIPS'],\n",
    "    geojson=counties,\n",
    "    z = map2['Percentage Staying'],\n",
    "    zmin=0,\n",
    "    zmax=80,\n",
    "    colorscale = 'Viridis',\n",
    "    autocolorscale=False,\n",
    "    marker_line_color='darkgray',\n",
    "    marker_line_width=0.5,\n",
    "    colorbar_title = 'Percentage'\n",
    "))\n",
    "\n",
    "fig.update_layout(\n",
    "    title_text='Percentage Staying at Home November 2021',\n",
    "    geo_scope='usa', # limite map scope to USA\n",
    "    geo=dict(\n",
    "        showframe=False,\n",
    "        showcoastlines=False\n",
    "    )\n",
    ")\n",
    "\n",
    "# Store as a json file\n",
    "fig.write_json('q2_3.json')\n",
    "\n",
    "fig.show()\n"
   ]
  },
  {
   "cell_type": "markdown",
   "metadata": {},
   "source": [
    "The world of passenger travel changed dramatically with the arrival of COVID-19 in March 2020. The daily average number of Americans staying at home, normally between 58 and 68 million in 2019, jumped to 94.5 million in March 2020 and has remained high above the 2019 levels. It peaked at over 100 million during the 2020 holiday season.\n",
    "\n",
    "The difference in the percentages of people staying at home varies greatly from county to county. The analysis of the line chart above shows that the number of people at home peaked in April 2019. In the second half of 2020, the number of people at home decreases significantly and stabilizes. Comparing the percentage of people at home in April 2020 with the percentage in November 2021 shows the change in numbers between counties in the US. \n",
    "The maps show that although there is variation between counties, the number of people at home in April 2020 is greater overall than the number of people at home in November 2021, echoing the line graph. This in turn suggests that the impact of the epidemic on people's travel starts around April 2020."
   ]
  },
  {
   "cell_type": "markdown",
   "metadata": {},
   "source": [
    "## Question 3: Have people made more or less personal trips before and during COVID-19?"
   ]
  },
  {
   "cell_type": "code",
   "execution_count": null,
   "metadata": {},
   "outputs": [],
   "source": [
    "# Find the number of trips on the 1st of the month\n",
    "df1 = df.iloc[[365,396,425,456,486,517,547,578,609,639,670,700]]\n",
    "# The figure of number of trips in 2020\n",
    "fig = go.Figure()\n",
    "fig.add_trace(go.Scatter(x=df1[\"Date\"], y=df1[\"Number of Trips <1\"],mode='lines+markers',name='Number of Trips <1'))\n",
    "fig.add_trace(go.Scatter(x=df1[\"Date\"], y=df1[\"Number of Trips 1-3\"],mode='lines+markers',name='Number of Trips 1-3'))\n",
    "fig.add_trace(go.Scatter(x=df1[\"Date\"], y=df1[\"Number of Trips 3-5\"],mode='lines+markers',name='Number of Trips 3-5'))\n",
    "fig.add_trace(go.Scatter(x=df1[\"Date\"], y=df1[\"Number of Trips 5-10\"],mode='lines+markers',name='Number of Trips 5-10'))\n",
    "fig.add_trace(go.Scatter(x=df1[\"Date\"], y=df1[\"Number of Trips 10-25\"],mode='lines+markers',name='Number of Trips 10-25'))\n",
    "fig.add_trace(go.Scatter(x=df1[\"Date\"], y=df1[\"Number of Trips 25-50\"],mode='lines+markers',name='Number of Trips 25-50'))\n",
    "fig.add_trace(go.Scatter(x=df1[\"Date\"], y=df1[\"Number of Trips 50-100\"],mode='lines+markers',name='Number of Trips 50-100'))\n",
    "fig.add_trace(go.Scatter(x=df1[\"Date\"], y=df1[\"Number of Trips 100-250\"],mode='lines+markers',name='Number of Trips 100-250'))\n",
    "fig.add_trace(go.Scatter(x=df1[\"Date\"], y=df1[\"Number of Trips 250-500\"],mode='lines+markers',name='Number of Trips 250-500'))\n",
    "fig.add_trace(go.Scatter(x=df1[\"Date\"], y=df1[\"Number of Trips >=500\"],mode='lines+markers',name='Number of Trips >=500'))\n",
    "fig.update_xaxes(title_text=\"date\")\n",
    "fig.update_yaxes(title_text=\"number of trips\")\n",
    "fig.update_layout(\n",
    "    title=\"The change in number of trips in 2020\",\n",
    "    autosize=False,\n",
    "    width=1000,\n",
    "    height=600,\n",
    ")\n",
    "\n",
    "# Store as a json file\n",
    "fig.write_json('q3_1.json')\n",
    "\n",
    "fig.show()"
   ]
  },
  {
   "cell_type": "code",
   "execution_count": null,
   "metadata": {},
   "outputs": [],
   "source": [
    "# Find the number of trips on the 1st of the month\n",
    "df2 = df.iloc[[0,31,59,90,120,151,181,212,243,273,303,334]]\n",
    "# The figure of number of trips in 2019\n",
    "fig = go.Figure()\n",
    "fig.add_trace(go.Scatter(x=df2[\"Date\"], y=df2[\"Number of Trips <1\"],mode='lines+markers',name='Number of Trips <1'))\n",
    "fig.add_trace(go.Scatter(x=df2[\"Date\"], y=df2[\"Number of Trips 1-3\"],mode='lines+markers',name='Number of Trips 1-3'))\n",
    "fig.add_trace(go.Scatter(x=df2[\"Date\"], y=df2[\"Number of Trips 3-5\"],mode='lines+markers',name='Number of Trips 3-5'))\n",
    "fig.add_trace(go.Scatter(x=df2[\"Date\"], y=df2[\"Number of Trips 5-10\"],mode='lines+markers',name='Number of Trips 5-10'))\n",
    "fig.add_trace(go.Scatter(x=df2[\"Date\"], y=df2[\"Number of Trips 10-25\"],mode='lines+markers',name='Number of Trips 10-25'))\n",
    "fig.add_trace(go.Scatter(x=df2[\"Date\"], y=df2[\"Number of Trips 25-50\"],mode='lines+markers',name='Number of Trips 25-50'))\n",
    "fig.add_trace(go.Scatter(x=df2[\"Date\"], y=df2[\"Number of Trips 50-100\"],mode='lines+markers',name='Number of Trips 50-100'))\n",
    "fig.add_trace(go.Scatter(x=df2[\"Date\"], y=df2[\"Number of Trips 100-250\"],mode='lines+markers',name='Number of Trips 100-250'))\n",
    "fig.add_trace(go.Scatter(x=df2[\"Date\"], y=df2[\"Number of Trips 250-500\"],mode='lines+markers',name='Number of Trips 250-500'))\n",
    "fig.add_trace(go.Scatter(x=df2[\"Date\"], y=df2[\"Number of Trips >=500\"],mode='lines+markers',name='Number of Trips >=500'))\n",
    "fig.update_xaxes(title_text=\"date\")\n",
    "fig.update_yaxes(title_text=\"number of trips\")\n",
    "fig.update_layout(\n",
    "    title=\"The change in number of trips in 2019\",\n",
    "    autosize=False,\n",
    "    width=1000,\n",
    "    height=600,\n",
    ")\n",
    "\n",
    "# Store as a json file\n",
    "fig.write_json('q3_2.json')\n",
    "\n",
    "fig.show()"
   ]
  },
  {
   "cell_type": "code",
   "execution_count": null,
   "metadata": {},
   "outputs": [],
   "source": [
    "# Find the number of trips on the 1st of the month\n",
    "df3 = df.iloc[[731,762,790,821,851,882]]\n",
    "# The figure of number of trips in 2021\n",
    "fig = go.Figure()\n",
    "fig.add_trace(go.Scatter(x=df3[\"Date\"], y=df3[\"Number of Trips <1\"],mode='lines+markers',name='Number of Trips <1'))\n",
    "fig.add_trace(go.Scatter(x=df3[\"Date\"], y=df3[\"Number of Trips 1-3\"],mode='lines+markers',name='Number of Trips 1-3'))\n",
    "fig.add_trace(go.Scatter(x=df3[\"Date\"], y=df3[\"Number of Trips 3-5\"],mode='lines+markers',name='Number of Trips 3-5'))\n",
    "fig.add_trace(go.Scatter(x=df3[\"Date\"], y=df3[\"Number of Trips 5-10\"],mode='lines+markers',name='Number of Trips 5-10'))\n",
    "fig.add_trace(go.Scatter(x=df3[\"Date\"], y=df3[\"Number of Trips 10-25\"],mode='lines+markers',name='Number of Trips 10-25'))\n",
    "fig.add_trace(go.Scatter(x=df3[\"Date\"], y=df3[\"Number of Trips 25-50\"],mode='lines+markers',name='Number of Trips 25-50'))\n",
    "fig.add_trace(go.Scatter(x=df3[\"Date\"], y=df3[\"Number of Trips 50-100\"],mode='lines+markers',name='Number of Trips 50-100'))\n",
    "fig.add_trace(go.Scatter(x=df3[\"Date\"], y=df3[\"Number of Trips 100-250\"],mode='lines+markers',name='Number of Trips 100-250'))\n",
    "fig.add_trace(go.Scatter(x=df3[\"Date\"], y=df3[\"Number of Trips 250-500\"],mode='lines+markers',name='Number of Trips 250-500'))\n",
    "fig.add_trace(go.Scatter(x=df3[\"Date\"], y=df3[\"Number of Trips >=500\"],mode='lines+markers',name='Number of Trips >=500'))\n",
    "fig.update_xaxes(title_text=\"date\")\n",
    "fig.update_yaxes(title_text=\"number of trips\")\n",
    "fig.update_layout(\n",
    "    title=\"The change in number of trips in 2021\",\n",
    "    autosize=False,\n",
    "    width=1000,\n",
    "    height=600,\n",
    ")\n",
    "\n",
    "# Store as a json file\n",
    "fig.write_json('q3_3.json')\n",
    "\n",
    "fig.show()"
   ]
  },
  {
   "cell_type": "markdown",
   "metadata": {},
   "source": [
    "By comparing the data on the number of people's trips between 2019, 2020 and 2021, we can see the impact of COVID-19 on people's travel. First, analyze the distribution of the number of trips. More than half of people have 0 to 3 daily trips. The number of trips from 3 to 5, 5 to 10 and 10 to 25 is basically the same, and their combined share is more than 40%, and only a few people make more than 25 trips per day. In 2019, the number of people's trips remained in a relatively stable range. The overall trend is that the number of trips in the middle of the year is slightly higher than that at the beginning and end of the year. When the outbreak of COVID-19 hit in March 2020, the number of people's travel dropped significantly and has remained at a relatively low level compared to 2019. In 2021, the number of people's trips will gradually pick up."
   ]
  },
  {
   "cell_type": "markdown",
   "metadata": {},
   "source": [
    "## Question 4: What is the difference in passenger vehicles between the north and the south during COVID-19?"
   ]
  },
  {
   "cell_type": "code",
   "execution_count": null,
   "metadata": {},
   "outputs": [],
   "source": [
    "# Change column type to pandas date time\n",
    "df_ca.loc[:, 'Date'] = pd.to_datetime(df_ca.loc[:,'Date'])\n",
    "df_ca = df_ca.set_index('Date')\n",
    "\n",
    "# Define a figure\n",
    "fig = px.line(\n",
    "    df_ca,\n",
    "    x=df_ca.index,\n",
    "    y=df_ca.columns\n",
    ")\n",
    "# Labeling the axes of the diagram\n",
    "fig.update_xaxes(title_text='Time')\n",
    "fig.update_yaxes(title_text='Passenger Vehicles')\n",
    "# Adding title to the diagram\n",
    "fig.update_layout(\n",
    "    title_text='Comparison of Passenger Vehicles to US from Canada before and during COVID-19'\n",
    ")\n",
    "\n",
    "# Store as a json file\n",
    "fig.write_json('q4_1.json')\n",
    "\n",
    "# Show the figure\n",
    "fig.show()"
   ]
  },
  {
   "cell_type": "code",
   "execution_count": null,
   "metadata": {},
   "outputs": [],
   "source": [
    "# Change column type to pandas date time\n",
    "df_me.loc[:, 'Date'] = pd.to_datetime(df_me.loc[:,'Date'])\n",
    "df_me = df_me.set_index('Date')\n",
    "\n",
    "# Define a figure\n",
    "fig = px.line(\n",
    "    df_me,\n",
    "    x=df_me.index,\n",
    "    y=df_me.columns\n",
    ")\n",
    "# Labeling the axes of the diagram\n",
    "fig.update_xaxes(title_text='Time')\n",
    "fig.update_yaxes(title_text='Passenger Vehicles')\n",
    "# Adding title to the diagram\n",
    "fig.update_layout(\n",
    "    title_text='Comparison of Passenger Vehicles to US from Mexico before and during COVID-19'\n",
    ")\n",
    "\n",
    "# Store as a json file\n",
    "fig.write_json('q4_2.json')\n",
    "\n",
    "# Show the figure\n",
    "fig.show()"
   ]
  },
  {
   "cell_type": "markdown",
   "metadata": {},
   "source": [
    "Canada and Mexico border the northern and southern parts of the U.S., respectively, so observing the changes in the number of their cross-border vehicles can deduce the impact of COVID-19 on the travel of passenger vehicles in the northern and southern parts of the U.S.\n",
    "\n",
    "It can be seen that before COVID-19, which is the baseline in the figure, the number of passenger vehicles transiting between Canada and the U.S. fluctuated between 400k and 700k, and when COVID-19 emerged, there was a significant drop in the number of those, reaching a minimum value of even less than 50k. And then, until August 2021, the number of transit vehicles had not risen significantly and remained at a low level. However, after that, the number of transit vehicles began to increase and recover towards the pre-epidemic situation, although it still did not end up where it was before.\n",
    "\n",
    "The number of transit vehicles between Mexico and the U.S. has been showing an overall upward trend after the same significant drop as in the north at the beginning of COVID-19. Around April 2022, the number of passenger vehicles crossing in the south has reached its previous value, and even slightly more than before, which differs dramatically from the recovery of the northern border crossing.\n",
    "Overall, the similarity between the changes in transit vehicles on the northern and southern borders is that initially the number of transit vehicles on both borders dropped significantly due to the travel restrictions imposed on people entering both borders during the highly contagious phase of COVID-19; for example, travel for tourism, shopping, and routine family visits were not allowed. The difference between them is that traffic on the southern border has declined significantly less than that on the southern border, and has recovered faster and better, which is due to more cross-border employment near the southern border.\n"
   ]
  },
  {
   "cell_type": "markdown",
   "metadata": {},
   "source": [
    "## Question 5: How has passenger travel changed in mode before and during COVID-19?"
   ]
  },
  {
   "cell_type": "code",
   "execution_count": null,
   "metadata": {},
   "outputs": [],
   "source": [
    "# Change column type to pandas date time of Percent Change in Passenger Travel from 2019 by Mode\n",
    "df_passenger.loc[:, \"Day(Week Ending)\"] = pd.to_datetime(df_passenger.loc[:, \"Day(Week Ending)\"])\n",
    "df_passenger\n",
    "\n",
    "fig = px.line(\n",
    "    df_passenger,\n",
    "    x=df_passenger.loc[:, \"Day(Week Ending)\"],\n",
    "    y=df_passenger.loc[:, \"Week Change\"],\n",
    "    color=\"Mode\"\n",
    ")\n",
    "\n",
    "# Labeling the axes of a diagram\n",
    "fig.update_xaxes(\n",
    "    title_text=\"Time\",\n",
    "    showgrid=False  # No grid lines are drawn for the x-axis\n",
    ")\n",
    "fig.update_yaxes(title_text=\"Change from baseline\")\n",
    "fig.update_layout(\n",
    "    title_text=\"Percent Change in Passenger Travel from 2019 by Mode\"  #Adding title to the chart\n",
    ")\n",
    "\n",
    "\n",
    "# Store as a json file\n",
    "fig.write_json('q5.json')\n",
    "\n",
    "# Show figure\n",
    "fig.show()"
   ]
  },
  {
   "cell_type": "markdown",
   "metadata": {},
   "source": [
    "COVID-19 has led to a sharp decline in direct travel for both long-distance and local passenger traffic. Two of the long-distance trips, air and rail transport, were hit the hardest but recovered at a high rate. With the exception of personal vehicle travel, which has largely recovered, recovery is lagging, especially for transit and intercity buses, which have only recovered by about half.\n"
   ]
  },
  {
   "cell_type": "markdown",
   "metadata": {},
   "source": [
    "## Question 6: How has public transportation been specifically affected by COVID-19?"
   ]
  },
  {
   "cell_type": "code",
   "execution_count": null,
   "metadata": {},
   "outputs": [],
   "source": [
    "# Process ata of confirmed cases in the USA\n",
    "# Extract valid data of confirmed cases in the USA for the first day of each month\n",
    "df_covid = df_covid[df_covid['location']=='United States']\n",
    "df_covid = df_covid.loc[217666:218547,['date','new_cases']]\n",
    "df_covid.index = range(len(df_covid))\n",
    "df_covid = df_covid.iloc[[0,29,60,90,121,151,182,213,243,274,304,335,366,394,425,455,\n",
    "                          486,516,547,578,608,639,669,700,731,759,790,820,851,881],:]\n",
    "# Redefine the order of index\n",
    "df_covid.index = range(len(df_covid))\n",
    "# Expand the value of the number of confirmed cases to a value range similar to that of riders\n",
    "df_covid['new_cases'] = df_covid['new_cases'] * 1000\n",
    "\n",
    "# Process data of riders for different public transits in the USA\n",
    "df_pt.loc[:, 'Date'] = pd.to_datetime(df_pt.loc[:,'Date'])\n",
    "df_pt = df_pt.loc[877:906,['Date','Transit Ridership - Other Transit Modes - Adjusted',\n",
    "                          'Transit Ridership - Fixed Route Bus - Adjusted','Transit Ridership - Urban Rail - Adjusted']]\n",
    "df_pt.index = range(len(df_pt))\n",
    "\n",
    "# Combine the dataframes\n",
    "df_com = pd.concat([df_covid,df_pt], axis=1)\n",
    "df_com = df_com.drop('Date', axis=1)\n",
    "df_com = df_com.set_index('date')"
   ]
  },
  {
   "cell_type": "code",
   "execution_count": null,
   "metadata": {},
   "outputs": [],
   "source": [
    "# Define a figure\n",
    "fig = px.line(\n",
    "    df_com,\n",
    "    x=df_com.index,\n",
    "    y=df_com.columns\n",
    ")\n",
    "# Labeling the axes of the diagram\n",
    "fig.update_xaxes(title_text='Time')\n",
    "fig.update_yaxes(title_text='Number of people')\n",
    "# Adding title to the diagram\n",
    "fig.update_layout(\n",
    "    title_text='Relationship Between Confirmed Cases and Different Transit Modes'  \n",
    ")\n",
    "\n",
    "# Store as a json file\n",
    "fig.write_json('q6.json')\n",
    "\n",
    "# Show the figure\n",
    "fig.show()"
   ]
  },
  {
   "cell_type": "markdown",
   "metadata": {},
   "source": [
    "It can be seen that the public transport modes that are mainly affected by the number of confirmed cases, i.e. the severity of COVID-19, are fixed bus and urban rail, while the other transit modes are quite less used and therefore less affected.\n",
    "For both bus and rail, the overall trend is almost the same, with a significant drop in ridership at the beginning of COVID-19 and a slow increase thereafter. It can be found that the troughs in ridership are around the time when the number of confirmed cases peaks, so it can be said that the number of passengers on public transportation is a good indicator of the severity of COVID-19. The difference between riderships of the two modes is that at the beginning of COVID-19, the number of rail transit users dropped more sharply, indicating that rail transit is more sensitive to the epidemic.\n"
   ]
  },
  {
   "cell_type": "markdown",
   "metadata": {},
   "source": [
    "## Question 7: How has air travel for passengers changed before and during COVID-19?"
   ]
  },
  {
   "cell_type": "code",
   "execution_count": null,
   "metadata": {},
   "outputs": [],
   "source": [
    "# Rename columns\n",
    "df_service = df_service.rename({'OBS_DATE': 'DATE'}, axis=1)\n",
    "# Change column type to pandas date time of Percent Change in Passenger Travel from 2019 by Mode\n",
    "df_service.loc[:, \"DATE\"] = pd.to_datetime(df_service.loc[:, \"DATE\"])"
   ]
  },
  {
   "cell_type": "code",
   "execution_count": null,
   "metadata": {},
   "outputs": [],
   "source": [
    "# Remove the Weekly Total Flights item that duplicates every year\n",
    "df_depart_new = df_depart.drop_duplicates(subset=[\"date (International) Week\",\"date (International) Year\"])\n"
   ]
  },
  {
   "cell_type": "code",
   "execution_count": null,
   "metadata": {},
   "outputs": [],
   "source": [
    "fig = go.Figure(data=[\n",
    "    # Unadjusted passenger transportation data series\n",
    "    go.Scatter(name=\"Unadjuested\", x=df_service.loc[:, \"DATE\"], y=df_service.loc[:, \"RPM\"]),\n",
    "    # Seasonally-adjusted passenger transportation data series\n",
    "    go.Scatter(name=\"Seasonally-adjusted\", x=df_service.loc[:, \"DATE\"], y=df_service.loc[:, \"RPM_D11\"])\n",
    "])\n",
    "\n",
    "# Labeling the axes of a diagram\n",
    "fig.update_xaxes(title_text=\"Year\")\n",
    "fig.update_yaxes(title_text=\"Air Revenue Passenger Miles(RPMs)\")\n",
    "\n",
    "# Show vertical and horizontal line (crosshair) as hoverinfo\n",
    "fig.update_xaxes(spikemode=\"across\")\n",
    "fig.update_yaxes(spikemode=\"across\")\n",
    "\n",
    "\n",
    "fig.update_layout(\n",
    "    title=\"Monthly Changes in Air Travel for Equivalent Periods\",  #Adding title to the chart\n",
    "    hovermode=\"x unified\"  # Make hover messages display two data points\n",
    ")\n",
    "\n",
    "# Store as a json file\n",
    "fig.write_json('q7_1.json')\n",
    "\n",
    "# Show figure\n",
    "fig.show()"
   ]
  },
  {
   "cell_type": "code",
   "execution_count": null,
   "metadata": {},
   "outputs": [],
   "source": [
    "fig = px.line(\n",
    "    df_depart_new,\n",
    "    x=df_depart_new.loc[:, \"date (International) Week\"],\n",
    "    y=df_depart_new.loc[:, \"Weekly Total Flights\"],\n",
    "    color=\"date (International) Year\"\n",
    ")\n",
    "\n",
    "# Labeling the axes of a diagram\n",
    "fig.update_xaxes(\n",
    "    title_text=\"Month\",\n",
    "    showgrid=False  # No grid lines are drawn for the x-axis\n",
    ")\n",
    "fig.update_yaxes(title_text=\"Total Flights Departures by Week: 2019,2020,2021,2022\")\n",
    "\n",
    "fig.update_layout(\n",
    "    title_text=\"Airline Travel as Measured by Airport Screenings as a Proxy: 2019–2022\",  #Adding title to the chart\n",
    "    hovermode = \"x\" ,          # Make hover messages display 4 years of data at the same time\n",
    "    xaxis = dict(tickmode='array',\n",
    "                 tickvals=df_depart_new.loc[:, \"date (International) Week\"],  # Original value\n",
    "                 ticktext=['Jan','','','','Feb','','','','Mar','','','',\n",
    "                           'Apr','','','','May','','','','','Jun','','','',\n",
    "                           'Jul','','','','','Aug','','','','Sep','','','',\n",
    "                           'Oct','','','','','Nov','','','','Dec','','',''],  # Final displayed value (replaced value)\n",
    "                 tickangle=0   # Make ticks horizontal for easy reading\n",
    "    ) \n",
    ")\n",
    "\n",
    "# Store as a json file\n",
    "fig.write_json('q7_2.json')\n",
    "\n",
    "# Show figure\n",
    "fig.show()"
   ]
  },
  {
   "cell_type": "markdown",
   "metadata": {},
   "source": [
    "In December 2005, the Bureau of Transportation Statistics published a report on “Airline Travel Since 9/11.” It came four years after the devastating attack caused a tragic loss of life and a significant contraction in U.S. air travel. The 20-year anniversary of 9/11 coincides with another devastating event, the COVID-19 pandemic, that is also affecting air travel.\n",
    "\n",
    "As the charts above show, the immediate impact of both events was a severe drop in the number of passengers traveling by air with one key difference. For the same number of months before and after the onset of the disruption, the drop in monthly passengers in September 2001 from the previous month is significantly less steep (33%) than the drop in 2020 (96%).\n",
    "\n",
    "All air service in the United States was suspended on 9/11, but the aviation system was restored within days. Passenger travel by commercial airlines did not recover until March 2004 when the number of passengers enplaned returned to the August 2001 level.\n",
    "\n",
    "In contrast, the COVID-19 pandemic disrupted aviation service over many months through a patchwork of travel restrictions among states and foreign destinations. By June 2021 (15 months after the initial lock-downs in March 2020), air travel had recovered to the point that 82% of the passengers (61.6M) carried in June 2019 (87.3M).\n",
    "\n",
    "As the chart above shows, the number of departing flights each week since May 2020 (2020 in orange, 2021 in green, and 2022 in purple) has been inching toward the number of flights in the corresponding week in 2019 (blue)."
   ]
  },
  {
   "cell_type": "markdown",
   "metadata": {},
   "source": [
    "## Question 8: How has the number of freight transportation trips changed before and during COVID-19?"
   ]
  },
  {
   "cell_type": "markdown",
   "metadata": {},
   "source": [
    "Freight transportation remains an important sector of the transportation industry. This part of analysis aims to process the data on freight transportation in the U.S. to reflect changes in the demand for goods and services before and after the outbreak of the COVID-19 pandemic."
   ]
  },
  {
   "cell_type": "markdown",
   "metadata": {},
   "source": [
    "#### Description of the extracted dataset of freight transportation\n",
    "\n",
    "- DATE: Dates that the data was recorded\n",
    "- Air Freight: Seasonally-Adjusted Air Revenue Ton Miles of Freight And Mail (RTMFM) (Ton Miles) \n",
    "- Rail Freight: Seasonally-Adjusted Rail Freight Carloads \n",
    "- Rail Intermodal: Seasonally-Adjusted Rail Freight Intermodal Traffic (containers and trailers)\n",
    "- Waterborne: Seasonally-Adjusted Tonnage for Internal U.S. Waterways (Millions Of Short Tons) \n",
    "- Truck: Seasonally-Adjusted Truck Tonnage Index (2015=100)\n"
   ]
  },
  {
   "cell_type": "code",
   "execution_count": null,
   "metadata": {},
   "outputs": [],
   "source": [
    "# Read total transportation data of the United States\n",
    "# https://data.bts.gov/Research-and-Statistics/Transportation-Services-Index-and-Seasonally-Adjus/bw6n-ddqk\n",
    "transport_usa = df_service\n",
    "# Filter for days that match the COVID data of the United States\n",
    "transport_usa = transport_usa[(transport_usa['DATE'] > '2019-12-01') & (transport_usa['DATE'] < '2022-11-01')]\n"
   ]
  },
  {
   "cell_type": "code",
   "execution_count": null,
   "metadata": {},
   "outputs": [],
   "source": [
    "# Extract freight data by dropping irrelevant columns\n",
    "freight_usa = transport_usa.drop(columns = [\n",
    "    'ID', 'ASM', 'ASM_D11', 'ASM_D', 'ASM_D_D11', 'ASM_I', 'ASM_I_D11', 'RPM', 'RPM_D11', 'RPM_D', 'RPM_D_D11', \n",
    "    'RPM_I','RPM_I_D11', 'LOAD_FACTOR', 'LOAD_FACTOR_D11', 'LOAD_FACTOR_D','LOAD_FACTOR_D_D11', \n",
    "    'LOAD_FACTOR_I', 'LOAD_FACTOR_I_D11','ENPLANE_I', 'ENPLANE_I_D11', 'ENPLANE_D', 'ENPLANE_D_D11', \n",
    "    'ENPLANE', 'ENPLANE_D11','AIR_RPM_TSI', 'AIR_RPM_TSI_D11', 'RAIL_PM', 'RAIL_PM_D11', 'TRANSIT',\n",
    "    'TRANSIT_D11', 'PETROLEUM', 'PETROLEUM_D11', 'NATURAL_GAS', 'NATURAL_GAS_D11', 'VMT','VMT_D11',\n",
    "    'TSI_Passenger', 'TSI_Passenger_C', 'TSI_Freight', 'TSI_Freight_C', 'TSI_Total', 'TSI_Total_C', \n",
    "    'IND_PRO', 'MANUF','IDX_AIR_RPM', 'IDX_AIR_RTMFM', 'IDX_RAIL_FRT_CARLOADS','IDX_RAIL_FRT_INTERMODAL', \n",
    "    'IDX_RAIL_PM', 'IDX_TRANSIT_D11', 'IDX_PETROLEUM_D11', 'IDX_NATURAL_GAS_D11', 'IDX_WATERBORNE_D11',\n",
    "    'IDX_TRUCK_D11', 'AIR_RTMFM', 'RAIL_FRT_CARLOADS', 'RAIL_FRT_INTERMODAL', 'WATERBORNE', 'INV_TO_SALES'\n",
    "])\n",
    "\n",
    "# Rename column names\n",
    "freight_usa.columns = ['DATE', 'Air Freight (Ton Miles)', 'Rail Freight', 'Rail Intermodal', 'Waterborne (Million Tons)', 'Truck Tonnage Index']\n",
    "\n",
    "# Fill NaN values with zeros\n",
    "#freight_usa = freight_usa.fillna(0)\n",
    "\n",
    "# Rename columns\n",
    "freight_usa = freight_usa.rename({'OBS_DATE': 'DATE'}, axis=1)\n",
    "\n",
    "# Convert data type to float\n",
    "freight_usa = freight_usa.replace(',','', regex=True)\n",
    "freight_usa.iloc[:, 1:7] = freight_usa.iloc[:, 1:7].astype(float)\n",
    "# freight_usa.head()"
   ]
  },
  {
   "cell_type": "code",
   "execution_count": null,
   "metadata": {},
   "outputs": [],
   "source": [
    "# Process the freight data for ease of visualisation later\n",
    "freight_usaNew = freight_usa.iloc[:, 0:6].melt(id_vars=[\"DATE\"], \n",
    "        var_name=\"Type\", \n",
    "        value_name=\"Number\")\n",
    "\n",
    "# Merge the processed covid data and the freight data\n",
    "covid_freight = pd.merge(cases_deaths, freight_usa, on=\"DATE\")\n",
    "\n",
    "# Find correlation matrix within the merged data\n",
    "matrix = covid_freight.corr(\n",
    "    method = 'pearson',  # The method of correlation\n",
    "    min_periods = 1      # Min number of observations required\n",
    ")\n",
    "\n",
    "# Store the merged data\n",
    "covid_freight.to_csv('covid_freight.csv', encoding='utf-8', index=False)"
   ]
  },
  {
   "cell_type": "markdown",
   "metadata": {},
   "source": [
    "#### Fluctuations in loads for different freight transportation"
   ]
  },
  {
   "cell_type": "markdown",
   "metadata": {},
   "source": [
    "Freight transportation remains an important sector of the transportation industry. This part of analysis aims to process the data on freight transportation in the U.S. to reflect changes in the demand for goods and services before and after the outbreak of the COVID-19 pandemic. \n",
    "\n",
    "From the diagram, it can clearly be seen that unlike passengers, the quantity of goods being transported in all types did not experience a sharp decrease during the COVID-19 pandemic. Rather, most of the freight transportation modes increased during this time. For instance, the air freight increased significantly from mid-2020 to the start of 2022, though it kept decreasing slightly until July 2022. \n",
    "\n",
    "For the two modes of rail freight, the changes are not that apparent, however they both have increased as the pandemic lasted, after they initially decreased in the first few months of the pandemic. The tonnage of truck freight seems to be rather unchanged throughout 2020 to 2022, as the numbers only fluctuated very slightly."
   ]
  },
  {
   "cell_type": "code",
   "execution_count": null,
   "metadata": {},
   "outputs": [],
   "source": [
    "# Plot the different freight transport data based on dates in a line plot\n",
    "# Differentiate the lines by the freight type\n",
    "fig = px.line(\n",
    "    freight_usaNew, x=\"DATE\", y=\"Number\", color=\"Type\", \n",
    "    hover_data=['Number']\n",
    ")\n",
    "\n",
    "# Labeling the axes of a diagram\n",
    "fig.update_xaxes(title_text='Date',showgrid=False)\n",
    "fig.update_yaxes(title_text='Load')\n",
    "fig.update_layout(title_text='Monthly Freight Transportation in the United States (2020-2022)')\n",
    "fig.update_traces(line_width=3)\n",
    "\n",
    "# Store as a json file\n",
    "fig.write_json('q8.json')\n",
    "\n",
    "fig.show()"
   ]
  },
  {
   "cell_type": "markdown",
   "metadata": {},
   "source": [
    "#### Correlation between COVID-19 and freight transportation data"
   ]
  },
  {
   "cell_type": "markdown",
   "metadata": {},
   "source": [
    "Correlation coefficients indicate the correlation between different variables, whose magnitude: \n",
    "- between 0.9 and 1.0: indicates a very high correlation between variables;\n",
    "- between 0.7 and 0.9: indicates a high correlation;\n",
    "- between 0.5 and 0.7: indicates a moderate correlation;\n",
    "- between 0.3 and 0.5: indicates a low correlation.\n",
    "\n",
    "From the correlation coefficient matrix diagram, it can be seen that there are no very high or high correlations between two variables, other than the variable and itself. However, there can be seen some almost as high or moderate correlations, as well as low correlations between the freight transportation and the COVID-19 cases and deaths datasets. \n",
    "\n",
    "For new COVID-19 cases, there is a moderate correlation between it and the new deaths (0.51). Regarding its correlations with freight, rail and truck freight only have a very low correlation with it (0.19 and 0.22, respectively). On the other hand, for new COVID-19 deaths, the waterborne and truck freight are slightly negatively correlated with it (-0.27 and -0.2, respectively). Interestingly, air freight has a low correlation with both new cases and deaths of COVID-19, which are 0.37 and 0.34, respectively.\n",
    "\n",
    "The correlations between the different freight transportation are mostly moderate or low. Air freight is moderately correlated with intermodal rail freight (0.61) and somewhat correlated with normal rail freight (0.46). Rail freight is moderately correlated with both the intermodal rail (0.56) and truck tonnage, whilst having a weak correlation with waterborne freight. Besides those, truck and waterborne tonnage are also moderately correlated.\n"
   ]
  },
  {
   "cell_type": "code",
   "execution_count": null,
   "metadata": {},
   "outputs": [],
   "source": [
    "plt.figure(figsize = (16,5))\n",
    "plt.title('Correlation for COVID-19 and Freight Transportation in the United States',fontsize = 20)\n",
    "matrix_new = covid_freight.corr().round(2)\n",
    "sns.heatmap(matrix, annot=True, vmax=1, vmin=-1, center=0, cmap='vlag')\n",
    "plt.show()"
   ]
  },
  {
   "cell_type": "code",
   "execution_count": null,
   "metadata": {},
   "outputs": [],
   "source": []
  },
  {
   "cell_type": "code",
   "execution_count": null,
   "metadata": {},
   "outputs": [],
   "source": []
  }
 ],
 "metadata": {
  "kernelspec": {
   "display_name": "Python 3 (ipykernel)",
   "language": "python",
   "name": "python3"
  },
  "language_info": {
   "codemirror_mode": {
    "name": "ipython",
    "version": 3
   },
   "file_extension": ".py",
   "mimetype": "text/x-python",
   "name": "python",
   "nbconvert_exporter": "python",
   "pygments_lexer": "ipython3",
   "version": "3.9.12"
  },
  "vscode": {
   "interpreter": {
    "hash": "31f2aee4e71d21fbe5cf8b01ff0e069b9275f58929596ceb00d14d90e3e16cd6"
   }
  }
 },
 "nbformat": 4,
 "nbformat_minor": 2
}
